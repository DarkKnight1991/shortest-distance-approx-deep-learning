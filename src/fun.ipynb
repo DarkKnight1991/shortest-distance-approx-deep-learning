{
 "cells": [
  {
   "cell_type": "markdown",
   "metadata": {},
   "source": [
    "#### This notebook, as the name suggests, is just for fun. It holds any interesting findings or any \"aha\" moments."
   ]
  },
  {
   "cell_type": "markdown",
   "metadata": {},
   "source": [
    "<b>1.</b> In the cells below you will see that the number of non-zeros in the matrix read from .mtx file is much larger than the number of lines (hence the number of edges) in the graph. What gives? \n",
    "\n",
    "Hint: See the ratio of count of non-zeros and number of edges! "
   ]
  },
  {
   "cell_type": "code",
   "execution_count": 9,
   "metadata": {},
   "outputs": [
    {
     "output_type": "stream",
     "name": "stdout",
     "text": "number of vertices: 6386\npercentage of non-zero elements in the matrix: 1.07\n"
    }
   ],
   "source": [
    "from scipy import io\n",
    "import numpy as np\n",
    "\n",
    "mtx_path = '..\\data\\socfb-American75.mtx'\n",
    "mat = io.mmread(mtx_path)\n",
    "\n",
    "print(\"number of vertices:\", mat.shape[0])\n",
    "print(\"percentage of non-zero elements in the matrix:\", np.round(mat.count_nonzero()/np.prod(mat.shape)*100, 2))"
   ]
  },
  {
   "cell_type": "code",
   "execution_count": 8,
   "metadata": {},
   "outputs": [
    {
     "output_type": "stream",
     "name": "stdout",
     "text": "number of edges in edgelist file = 217662 , number of non-zero entries in matrix = 435324\nRatio of non-zero entries to number of edges = 2.0\n"
    }
   ],
   "source": [
    "with open('../data/socfb-American75.edgelist') as file:\n",
    "    lines = file.readlines()\n",
    "\n",
    "print(\"number of edges in edgelist file =\", len(lines), \", number of non-zero entries in matrix =\", mat.count_nonzero())\n",
    "print(\"Ratio of non-zero entries to number of edges =\", mat.count_nonzero()/len(lines))"
   ]
  },
  {
   "cell_type": "markdown",
   "metadata": {},
   "source": [
    "#### Reason: The .mtx file with symmetric format stores only the entries on or below the main diagonal. So if you have edge from 5 to 1, same edge would be present in entry 1-5 but would not be mentioned in the mtx file to save space."
   ]
  }
 ],
 "metadata": {
  "language_info": {
   "codemirror_mode": {
    "name": "ipython",
    "version": 3
   },
   "file_extension": ".py",
   "mimetype": "text/x-python",
   "name": "python",
   "nbconvert_exporter": "python",
   "pygments_lexer": "ipython3",
   "version": "3.8.1-final"
  },
  "orig_nbformat": 2,
  "kernelspec": {
   "name": "python3",
   "display_name": "Python 3"
  }
 },
 "nbformat": 4,
 "nbformat_minor": 2
}