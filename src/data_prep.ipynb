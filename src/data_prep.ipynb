{
 "cells": [
  {
   "cell_type": "markdown",
   "metadata": {},
   "source": [
    "#### This notebook prepares the input data to be consumed by the Neural Network."
   ]
  },
  {
   "cell_type": "code",
   "execution_count": 1,
   "metadata": {},
   "outputs": [
    {
     "output_type": "stream",
     "name": "stdout",
     "text": "The autoreload extension is already loaded. To reload it, use:\n  %reload_ext autoreload\n"
    }
   ],
   "source": [
    "%load_ext autoreload\n",
    "%autoreload 2"
   ]
  },
  {
   "cell_type": "markdown",
   "metadata": {},
   "source": [
    "Run the cell below to extract the edgelist from .mtx file (the way Node2Vec expects the input). We will iterate through all the mtx files and create a corresponding .edgelist file"
   ]
  },
  {
   "cell_type": "code",
   "execution_count": 29,
   "metadata": {},
   "outputs": [],
   "source": [
    "import os\n",
    "\n",
    "data_files = os.listdir('../data')\n",
    "for file in data_files:\n",
    "    if file.endswith('.mtx'):\n",
    "        file_name = file.replace('.mtx', '')\n",
    "        file_edgelist = file_name+'.edgelist'\n",
    "        if not file_edgelist in data_files:\n",
    "            lines = None\n",
    "            with open('../data/'+file) as file_mtx:\n",
    "                lines = file_mtx.readlines()\n",
    "            with open('../data/'+file_edgelist, 'w') as file_edgelist:\n",
    "                file_edgelist.writelines(lines[2:])\n",
    "                print(file_edgelist, 'created')"
   ]
  },
  {
   "cell_type": "markdown",
   "metadata": {},
   "source": [
    "Now that we have extracted edgelists from .mtx files using above cell, let's generate node embeddings (node2vec). For that I will use the code that the author's have shared on there [Github](https://github.com/aditya-grover/node2vec). But first we have to convert the script from python2 to python3 and replace \"import node2vec\" with \"import node2vec3\"."
   ]
  },
  {
   "cell_type": "code",
   "execution_count": 42,
   "metadata": {},
   "outputs": [],
   "source": [
    "# ! 2to3 -w './node2vec'  # didn't work. No such file or directory error\n",
    "# os.listdir('./node2vec')  # while this works!\n",
    "# so converted main.py and node2vec.py using online translators"
   ]
  },
  {
   "cell_type": "markdown",
   "metadata": {},
   "source": [
    "For generating embeddings use the parameters used in the \"shortest path distance\" paper."
   ]
  },
  {
   "cell_type": "code",
   "execution_count": 57,
   "metadata": {},
   "outputs": [
    {
     "name": "stdout",
     "output_type": "stream",
     "text": [
      "Walk iteration:\n",
      "1 / 10\n",
      "2 / 10\n",
      "3 / 10\n",
      "4 / 10\n",
      "5 / 10\n",
      "6 / 10\n",
      "7 / 10\n",
      "8 / 10\n",
      "9 / 10\n",
      "10 / 10\n",
      "Wall time: 18min 24s\n"
     ]
    }
   ],
   "source": [
    "%%time\n",
    "import os\n",
    "\n",
    "if not os.path.exists('../data/emb'):\n",
    "    os.makedirs('../data/emb')\n",
    "# ! python node2vec/main3.py --help\n",
    "! python node2vec/main3.py --input ../data/socfb-OR.edgelist --output ../data/emb/socfb-OR.emd"
   ]
  },
  {
   "cell_type": "markdown",
   "metadata": {},
   "source": [
    "The Graph class has a <i>naive</i> implementation of Dijkstra's Algorithm to calculate distance of all the nodes from a specified source node. It is slow but since we need to run it for landmarks (number of landmarks << number of nodes) only I will go ahead with this. "
   ]
  },
  {
   "cell_type": "code",
   "execution_count": 1,
   "metadata": {
    "tags": [
     "outputPrepend",
     "outputPrepend",
     "outputPrepend",
     "outputPrepend",
     "outputPrepend",
     "outputPrepend",
     "outputPrepend",
     "outputPrepend",
     "outputPrepend",
     "outputPrepend",
     "outputPrepend",
     "outputPrepend",
     "outputPrepend",
     "outputPrepend",
     "outputPrepend",
     "outputPrepend",
     "outputPrepend",
     "outputPrepend",
     "outputPrepend",
     "outputPrepend",
     "outputPrepend",
     "outputPrepend",
     "outputPrepend",
     "outputPrepend",
     "outputPrepend",
     "outputPrepend",
     "outputPrepend",
     "outputPrepend",
     "outputPrepend",
     "outputPrepend",
     "outputPrepend",
     "outputPrepend",
     "outputPrepend",
     "outputPrepend",
     "outputPrepend",
     "outputPrepend",
     "outputPrepend",
     "outputPrepend",
     "outputPrepend",
     "outputPrepend",
     "outputPrepend",
     "outputPrepend",
     "outputPrepend",
     "outputPrepend",
     "outputPrepend",
     "outputPrepend",
     "outputPrepend",
     "outputPrepend",
     "outputPrepend",
     "outputPrepend",
     "outputPrepend",
     "outputPrepend",
     "outputPrepend",
     "outputPrepend",
     "outputPrepend",
     "outputPrepend",
     "outputPrepend",
     "outputPrepend",
     "outputPrepend",
     "outputPrepend",
     "outputPrepend",
     "outputPrepend",
     "outputPrepend",
     "outputPrepend",
     "outputPrepend",
     "outputPrepend",
     "outputPrepend",
     "outputPrepend",
     "outputPrepend",
     "outputPrepend",
     "outputPrepend",
     "outputPrepend",
     "outputPrepend",
     "outputPrepend",
     "outputPrepend",
     "outputPrepend",
     "outputPrepend",
     "outputPrepend",
     "outputPrepend",
     "outputPrepend",
     "outputPrepend",
     "outputPrepend",
     "outputPrepend",
     "outputPrepend",
     "outputPrepend",
     "outputPrepend",
     "outputPrepend",
     "outputPrepend",
     "outputPrepend",
     "outputPrepend",
     "outputPrepend",
     "outputPrepend",
     "outputPrepend",
     "outputPrepend",
     "outputPrepend",
     "outputPrepend",
     "outputPrepend",
     "outputPrepend",
     "outputPrepend",
     "outputPrepend",
     "outputPrepend",
     "outputPrepend",
     "outputPrepend",
     "outputPrepend",
     "outputPrepend",
     "outputPrepend",
     "outputPrepend",
     "outputPrepend",
     "outputPrepend",
     "outputPrepend",
     "outputPrepend",
     "outputPrepend",
     "outputPrepend",
     "outputPrepend",
     "outputPrepend",
     "outputPrepend",
     "outputPrepend",
     "outputPrepend",
     "outputPrepend",
     "outputPrepend",
     "outputPrepend",
     "outputPrepend",
     "outputPrepend"
    ]
   },
   "outputs": [
    {
     "output_type": "stream",
     "name": "stderr",
     "text": "0%|          | 0/150 [00:00<?, ?it/s]number of landmarks: 150\n100%|██████████| 150/150 [37:05<00:00, 14.83s/it]save path: ../outputs/distance_map_1588792161.8904061.pickle\n\n"
    }
   ],
   "source": [
    "from graph_proc import Graph\n",
    "from logger import Logger\n",
    "\n",
    "logger = Logger('../outputs/logs', 'log_')\n",
    "graph = Graph('../data/socfb-American75.mtx', logger)\n",
    "save_path = graph.process_landmarks()"
   ]
  },
  {
   "cell_type": "markdown",
   "metadata": {},
   "source": [
    "The result is saved in a pickle file (dict) to analyse. As you can see below only isolated (disconnected from source) nodes are left out, which form a cycle with another node (isolated cycles). Same set of isolated nodes are found for all of the landmarks. So we can ignore them."
   ]
  },
  {
   "cell_type": "code",
   "execution_count": 2,
   "metadata": {
    "tags": [
     "outputPrepend"
    ]
   },
   "outputs": [
    {
     "output_type": "stream",
     "name": "stdout",
     "text": "Number of sources for which any isolated nodes found are 150\n"
    }
   ],
   "source": [
    "import pickle\n",
    "import numpy as np\n",
    "from scipy import io\n",
    "\n",
    "save_path = '../outputs/distance_map_1588792161.8904061.pickle'\n",
    "mtx_path = '..\\data\\socfb-American75.mtx'\n",
    "mat_csr = io.mmread(mtx_path).tocsr()\n",
    "distance_map = pickle.load(open(save_path, 'rb'))\n",
    "keys = list(distance_map.keys())\n",
    "count = 0\n",
    "for key in keys:\n",
    "    l = np.array(distance_map[key])\n",
    "    hitlist = np.where(l==np.inf)[0]\n",
    "    # print('Number of isolated keys for source-{} is {}'.format(key, len(hitlist)))\n",
    "    if(len(hitlist) > 0):\n",
    "        count += 1\n",
    "    # for i in hitlist:\n",
    "    #     print(i, '--', np.where(mat_csr[i].toarray()[0]>0)[0])\n",
    "    # if(len(hitlist)>0):\n",
    "    #     break\n",
    "print('Number of sources for which any isolated nodes found are', count)"
   ]
  },
  {
   "cell_type": "markdown",
   "metadata": {},
   "source": [
    "All cells before this had to be run once to process the graph and save results to save time. Now we have to read the distance map and embeddings to form training data."
   ]
  },
  {
   "cell_type": "code",
   "execution_count": 1,
   "metadata": {},
   "outputs": [
    {
     "output_type": "stream",
     "name": "stdout",
     "text": "size of emd_map: 0.28133392333984375 MB\nsize of distance_map: 0.00447845458984375 MB\n"
    }
   ],
   "source": [
    "import numpy as np\n",
    "import sys\n",
    "import pickle\n",
    "\n",
    "save_path = '../outputs/distance_map_1588792161.8904061.pickle'\n",
    "distance_map = pickle.load(open(save_path, 'rb'))\n",
    "emd_path = '../data/emb/socfb-American75.emd'\n",
    "emd_map = {}\n",
    "with open(emd_path, 'r') as file:\n",
    "    lines = file.readlines()\n",
    "    for line in lines[1:]:\n",
    "        temp = line.split(' ')\n",
    "        emd_map[np.int(temp[0])] = np.array(temp[1:], dtype=np.float)\n",
    "print('size of emd_map:', sys.getsizeof(emd_map)/1024/1024,'MB')\n",
    "print('size of distance_map:', sys.getsizeof(distance_map)/1024/1024,'MB')"
   ]
  },
  {
   "cell_type": "code",
   "execution_count": 2,
   "metadata": {},
   "outputs": [
    {
     "output_type": "stream",
     "name": "stderr",
     "text": "100%|██████████| 150/150 [00:03<00:00, 40.84it/s]length of embedding-distance pairs 955350\n\n"
    }
   ],
   "source": [
    "from tqdm.auto import tqdm\n",
    "\n",
    "dataset_path = '../data/datasets/socfb-American75.pickle'\n",
    "\n",
    "emd_dist_pair = []\n",
    "for landmark in tqdm(list(distance_map.keys())):\n",
    "    node_distances = distance_map[landmark]\n",
    "    emd_dist_pair.extend([((emd_map[node]+emd_map[landmark])/2, distance) for node, distance in enumerate(node_distances, 1) if node != landmark and distance != np.inf])\n",
    "\n",
    "print('length of embedding-distance pairs', len(emd_dist_pair))"
   ]
  },
  {
   "cell_type": "code",
   "execution_count": 3,
   "metadata": {},
   "outputs": [
    {
     "output_type": "stream",
     "name": "stderr",
     "text": "100%|██████████| 955350/955350 [00:01<00:00, 640324.18it/s]Shape of x=(955350, 128) and y=(955350,)\nsize of x=932.9590911865234 MB and y=7.2888336181640625 MB\n\n"
    }
   ],
   "source": [
    "import sys\n",
    "\n",
    "x = np.zeros((len(emd_dist_pair), len(emd_dist_pair[0][0])))\n",
    "y = np.zeros((len(emd_dist_pair),))\n",
    "\n",
    "for i, tup in enumerate(tqdm(emd_dist_pair)):\n",
    "    x[i] = tup[0]\n",
    "    y[i] = tup[1]\n",
    "print(\"Shape of x={} and y={}\".format(x.shape, y.shape))\n",
    "print('size of x={} MB and y={} MB'.format(sys.getsizeof(x)/1024/1024, sys.getsizeof(y)/1024/1024))"
   ]
  },
  {
   "cell_type": "code",
   "execution_count": 4,
   "metadata": {},
   "outputs": [
    {
     "output_type": "execute_result",
     "data": {
      "text/plain": "('Range of distance values', 1.0, 7.0)"
     },
     "metadata": {},
     "execution_count": 4
    }
   ],
   "source": [
    "'Range of distance values', np.min(y), np.max(y)"
   ]
  },
  {
   "cell_type": "markdown",
   "metadata": {},
   "source": [
    "A sanity check..."
   ]
  },
  {
   "cell_type": "code",
   "execution_count": 5,
   "metadata": {},
   "outputs": [
    {
     "output_type": "stream",
     "name": "stdout",
     "text": "number of negative distances 0\n"
    }
   ],
   "source": [
    "num_neg_dist = 0\n",
    "distances_ = []\n",
    "for i, landmark in enumerate(distance_map.keys()):\n",
    "    distances_.extend(distance_map[landmark])\n",
    "print('number of negative distances', np.sum(np.array(distances_) < 0))"
   ]
  },
  {
   "cell_type": "markdown",
   "metadata": {},
   "source": [
    "Since the data takes up a lot of space, let's convert the datatype of x and y. In case you are worried about the precision loss, I think you can save the converted data into separate ndarray(x1), and try \"np.mean(np.abs(x-x1))\". For this data it was very small (2.7954226433144966e-09),so ignoring it. And in our case graphs are unweighted, so distance would be integer always."
   ]
  },
  {
   "cell_type": "code",
   "execution_count": 6,
   "metadata": {},
   "outputs": [
    {
     "output_type": "stream",
     "name": "stdout",
     "text": "size of x=466.47959899902344 MB and y=3.6444625854492188 MB\n"
    }
   ],
   "source": [
    "x = x.astype('float32')\n",
    "y = y.astype('int')\n",
    "print('size of x={} MB and y={} MB'.format(sys.getsizeof(x)/1024/1024, sys.getsizeof(y)/1024/1024))"
   ]
  },
  {
   "cell_type": "markdown",
   "metadata": {},
   "source": [
    "Now let's split the data into training, validation and test datasets."
   ]
  },
  {
   "cell_type": "code",
   "execution_count": 7,
   "metadata": {},
   "outputs": [
    {
     "output_type": "stream",
     "name": "stdout",
     "text": "shapes of train, validation, test data (573209, 128) (573209,) (143303, 128) (143303,) (238838, 128) (238838,)\n"
    }
   ],
   "source": [
    "from sklearn.model_selection import train_test_split\n",
    "import torch\n",
    "\n",
    "seed_random = 9999\n",
    "np.random.seed(seed_random)\n",
    "torch.backends.cudnn.deterministic = True\n",
    "if torch.cuda.is_available():\n",
    "    torch.cuda.manual_seed_all(seed_random)\n",
    "\n",
    "x_train, x_test, y_train, y_test = train_test_split(x, y, test_size=0.25, train_size=0.75, random_state=seed_random, shuffle=True, stratify=y)\n",
    "x_train, x_cv, y_train, y_cv = train_test_split(x_train, y_train, test_size=0.2, train_size=0.8, random_state=seed_random, shuffle=True, stratify=y_train)\n",
    "\n",
    "print('shapes of train, validation, test data', x_train.shape, y_train.shape, x_cv.shape, y_cv.shape, x_test.shape, y_test.shape)"
   ]
  },
  {
   "cell_type": "markdown",
   "metadata": {},
   "source": [
    "As discribed in point-2 in fun.ipyb, the distance values are heavily skewed. So oversampling under-represented samples. But here is the challenge-- how do you oversample a regression dataset? Didn't find any good existing implementations. But in this cases values are all natural numbers and these might as well be classes! So using SMOTE. \n",
    "Note: I am not using classification models because distance might be outside the range of [[1-7]]"
   ]
  },
  {
   "cell_type": "code",
   "execution_count": 8,
   "metadata": {},
   "outputs": [
    {
     "output_type": "stream",
     "name": "stdout",
     "text": "Frequency of distance values before oversampling [1 2 3 4 5 6 7] [  6568 202316 305345  53622   4932    407     19]\nFrequency of distance values after oversampling (array([1, 2, 3, 4, 5, 6, 7]), array([213741, 202316, 305345, 213741, 213741, 213741, 213741],\n      dtype=int64))\n"
    },
    {
     "output_type": "execute_result",
     "data": {
      "text/plain": "((1576366, 128), (1576366,))"
     },
     "metadata": {},
     "execution_count": 8
    }
   ],
   "source": [
    "from imblearn.over_sampling import RandomOverSampler\n",
    "\n",
    "values, counts = np.unique(y_train, return_counts=True)\n",
    "print('Frequency of distance values before oversampling', values, counts)\n",
    "max_val = np.max(counts)\n",
    "resample_dict = {1:int(max_val*0.7), 4:int(max_val*0.7), 5:int(max_val*0.7), 6:int(max_val*0.7), 7:int(max_val*0.7)}\n",
    "\n",
    "ros = RandomOverSampler(sampling_strategy=resample_dict, random_state=seed_random)\n",
    "x_train, y_train = ros.fit_resample(x_train, y_train.astype(np.int))\n",
    "\n",
    "print('Frequency of distance values after oversampling', np.unique(y_train, return_counts=True))\n",
    "x_train.shape, y_train.shape"
   ]
  },
  {
   "cell_type": "code",
   "execution_count": 9,
   "metadata": {},
   "outputs": [],
   "source": [
    "from sklearn.preprocessing import MinMaxScaler\n",
    "\n",
    "# TODO try standardization and no normalization also and compare result\n",
    "\n",
    "mm_scaler = MinMaxScaler(feature_range=(0, 1))\n",
    "x_train = mm_scaler.fit_transform(x_train)\n",
    "x_cv = mm_scaler.transform(x_cv)\n",
    "x_test = mm_scaler.transform(x_test)"
   ]
  },
  {
   "cell_type": "code",
   "execution_count": 10,
   "metadata": {},
   "outputs": [],
   "source": [
    "params = {'batch_size':5000, 'input_size':x_train.shape[1], 'hidden_units_1':256, 'hidden_units_2':100, 'output_size':1, 'lr': 1e-5, 'max_lr':1e-3, 'epochs': 800}"
   ]
  },
  {
   "cell_type": "code",
   "execution_count": 11,
   "metadata": {},
   "outputs": [
    {
     "output_type": "stream",
     "name": "stdout",
     "text": "device: cuda:0\n"
    }
   ],
   "source": [
    "from torch.utils import data as torch_data\n",
    "\n",
    "device = torch.device(\"cuda:0\" if torch.cuda.is_available() else \"cpu\")\n",
    "print(\"device:\", device)\n",
    "\n",
    "trainset = torch_data.TensorDataset(torch.as_tensor(x_train, dtype=torch.float, device=device), torch.as_tensor(y_train, dtype=torch.float, device=device))\n",
    "train_dl = torch_data.DataLoader(trainset, batch_size=params['batch_size'], drop_last=True)\n",
    "\n",
    "val_dl = torch_data.DataLoader(torch_data.TensorDataset(torch.as_tensor(x_cv, dtype=torch.float, device=device), torch.as_tensor(y_cv, dtype=torch.float, device=device)), batch_size=params['batch_size'], drop_last=True)\n",
    "\n",
    "test_dl = torch_data.DataLoader(torch_data.TensorDataset(torch.as_tensor(x_test, dtype=torch.float, device=device), torch.as_tensor(y_test, dtype=torch.float, device=device)), batch_size=params['batch_size'], drop_last=True)"
   ]
  },
  {
   "cell_type": "code",
   "execution_count": 47,
   "metadata": {},
   "outputs": [
    {
     "output_type": "stream",
     "name": "stdout",
     "text": "model loaded into device= cuda:0\n----------------------------------------------------------------\n        Layer (type)               Output Shape         Param #\n================================================================\n            Linear-1                  [-1, 256]          33,024\n           Dropout-2                  [-1, 256]               0\n              ReLU-3                  [-1, 256]               0\n            Linear-4                  [-1, 100]          25,700\n           Dropout-5                  [-1, 100]               0\n              ReLU-6                  [-1, 100]               0\n            Linear-7                    [-1, 1]             101\n              ReLU-8                    [-1, 1]               0\n================================================================\nTotal params: 58,825\nTrainable params: 58,825\nNon-trainable params: 0\n----------------------------------------------------------------\nInput size (MB): 0.00\nForward/backward pass size (MB): 0.01\nParams size (MB): 0.22\nEstimated Total Size (MB): 0.23\n----------------------------------------------------------------\n"
    }
   ],
   "source": [
    "from torchsummary import summary\n",
    "\n",
    "torch.manual_seed(9999)\n",
    "def get_model():\n",
    "    model = torch.nn.Sequential(\n",
    "        torch.nn.Linear(params['input_size'], params['hidden_units_1']),\n",
    "        torch.nn.Dropout(p=0.05),\n",
    "        torch.nn.ReLU(),\n",
    "        torch.nn.Linear(params['hidden_units_1'], params['hidden_units_2']),\n",
    "        torch.nn.Dropout(p=0.04),\n",
    "        torch.nn.ReLU(),\n",
    "        torch.nn.Linear(params['hidden_units_2'], params['output_size']),\n",
    "        torch.nn.ReLU(),\n",
    "        # torch.nn.Softplus(),\n",
    "    )\n",
    "    model.to(device)\n",
    "    return model\n",
    "\n",
    "def poisson_loss(y_pred, y_true):\n",
    "    \"\"\"\n",
    "    Custom loss function for Poisson model.\n",
    "    Equivalent Keras implementation for reference:\n",
    "    K.mean(y_pred - y_true * math_ops.log(y_pred + K.epsilon()), axis=-1)\n",
    "    For output of shape (2,3) it return (2,) vector. Need to calculate\n",
    "    mean of that too.\n",
    "    \"\"\"\n",
    "    y_pred = torch.squeeze(y_pred)\n",
    "    loss = torch.mean(y_pred - y_true * torch.log(y_pred+1e-7))\n",
    "    return loss\n",
    "\n",
    "model = get_model()\n",
    "\n",
    "print('model loaded into device=', next(model.parameters()).device)\n",
    "summary(model, input_size=(128, ))\n",
    "\n",
    "lr_reduce_patience = 10\n",
    "lr_reduce_factor = 0.05\n",
    "\n",
    "loss_fn = torch.nn.MSELoss(reduction='mean')\n",
    "optimizer = torch.optim.SGD(model.parameters(), lr=params['lr'], momentum=0.9, dampening=0, weight_decay=0, nesterov=True)\n",
    "# optimizer = torch.optim.RMSprop(model.parameters(), lr=params['lr'], alpha=0.99, eps=1e-08, weight_decay=0, momentum=0, centered=False)\n",
    "\n",
    "# lr_sched = torch.optim.lr_scheduler.ReduceLROnPlateau(optimizer, mode='min', factor=lr_reduce_factor, patience=lr_reduce_patience, verbose=True, threshold=0.0001, threshold_mode='rel', cooldown=0, min_lr=1e-8, eps=1e-08)\n",
    "lr_sched = torch.optim.lr_scheduler.OneCycleLR(optimizer, max_lr=params['max_lr'], steps_per_epoch=len(train_dl), epochs=params['epochs'])"
   ]
  },
  {
   "cell_type": "code",
   "execution_count": 13,
   "metadata": {},
   "outputs": [],
   "source": [
    "def evaluate(model, dl):\n",
    "    model.eval()\n",
    "    final_loss = 0.0\n",
    "    count = 0\n",
    "    with torch.no_grad():\n",
    "        for data_cv in dl:\n",
    "            inputs, dist_true = data_cv[0], data_cv[1]\n",
    "            count += len(inputs)\n",
    "            outputs = model(inputs)\n",
    "            loss = loss_fn(outputs, dist_true)\n",
    "            final_loss += loss.item()\n",
    "    return final_loss/len(dl)\n",
    "\n",
    "def save_checkpoint(state, state_save_path):\n",
    "    if not os.path.exists(\"/\".join(state_save_path.split('/')[:-1])):\n",
    "        os.makedirs(\"/\".join(state_save_path.split('/')[:-1]))\n",
    "    torch.save(state, state_save_path)"
   ]
  },
  {
   "cell_type": "code",
   "execution_count": 25,
   "metadata": {},
   "outputs": [
    {
     "output_type": "stream",
     "name": "stdout",
     "text": "loaded saved model: {}\ntotal epochs= 800\n981 > Best val_loss model saved: 1.461\n982 > Best val_loss model saved: 1.461\n983 > Best val_loss model saved: 1.461\n984 > Best val_loss model saved: 1.46\n985 > Best val_loss model saved: 1.46\n986 > Best val_loss model saved: 1.459\n988 > Best val_loss model saved: 1.459\n989 > Best val_loss model saved: 1.458\n990 > Best val_loss model saved: 1.457\nepoch:990 -> train_loss=0.74332,val_loss=1.45725 - 0.0 minutes 49.0 seconds\n991 > Best val_loss model saved: 1.457\n992 > Best val_loss model saved: 1.456\n993 > Best val_loss model saved: 1.456\n995 > Best val_loss model saved: 1.456\n996 > Best val_loss model saved: 1.455\n997 > Best val_loss model saved: 1.454\n998 > Best val_loss model saved: 1.454\n999 > Best val_loss model saved: 1.454\n1000 > Best val_loss model saved: 1.453\nepoch:1000 -> train_loss=0.7416,val_loss=1.45306 - 0.0 minutes 48.0 seconds\n1001 > Best val_loss model saved: 1.453\n1002 > Best val_loss model saved: 1.452\n1003 > Best val_loss model saved: 1.452\n1004 > Best val_loss model saved: 1.452\n1005 > Best val_loss model saved: 1.451\n1006 > Best val_loss model saved: 1.45\n1007 > Best val_loss model saved: 1.45\n1008 > Best val_loss model saved: 1.449\n1009 > Best val_loss model saved: 1.449\n1010 > Best val_loss model saved: 1.449\nepoch:1010 -> train_loss=0.73973,val_loss=1.44891 - 0.0 minutes 48.0 seconds\n1011 > Best val_loss model saved: 1.448\n1013 > Best val_loss model saved: 1.448\n1014 > Best val_loss model saved: 1.447\n1015 > Best val_loss model saved: 1.447\n1016 > Best val_loss model saved: 1.446\n1017 > Best val_loss model saved: 1.446\n1018 > Best val_loss model saved: 1.445\n1019 > Best val_loss model saved: 1.445\nepoch:1020 -> train_loss=0.73751,val_loss=1.44485 - 0.0 minutes 49.0 seconds\n1021 > Best val_loss model saved: 1.444\n1022 > Best val_loss model saved: 1.443\n1024 > Best val_loss model saved: 1.442\n1026 > Best val_loss model saved: 1.442\n1028 > Best val_loss model saved: 1.44\n1030 > Best val_loss model saved: 1.44\nepoch:1030 -> train_loss=0.73532,val_loss=1.44011 - 0.0 minutes 48.0 seconds\n1031 > Best val_loss model saved: 1.439\n1033 > Best val_loss model saved: 1.439\n1034 > Best val_loss model saved: 1.438\n1035 > Best val_loss model saved: 1.437\n1038 > Best val_loss model saved: 1.436\n1039 > Best val_loss model saved: 1.436\n1040 > Best val_loss model saved: 1.436\nepoch:1040 -> train_loss=0.73367,val_loss=1.43583 - 0.0 minutes 49.0 seconds\n1041 > Best val_loss model saved: 1.435\n1042 > Best val_loss model saved: 1.434\n1043 > Best val_loss model saved: 1.434\n1045 > Best val_loss model saved: 1.433\n1046 > Best val_loss model saved: 1.433\n1047 > Best val_loss model saved: 1.432\n1049 > Best val_loss model saved: 1.432\n1050 > Best val_loss model saved: 1.431\nepoch:1050 -> train_loss=0.73147,val_loss=1.43068 - 0.0 minutes 49.0 seconds\n1051 > Best val_loss model saved: 1.431\n1052 > Best val_loss model saved: 1.43\n1053 > Best val_loss model saved: 1.429\n1054 > Best val_loss model saved: 1.429\n1055 > Best val_loss model saved: 1.428\n1056 > Best val_loss model saved: 1.428\n1057 > Best val_loss model saved: 1.427\n1058 > Best val_loss model saved: 1.426\n1059 > Best val_loss model saved: 1.426\n1060 > Best val_loss model saved: 1.425\nepoch:1060 -> train_loss=0.72923,val_loss=1.42546 - 0.0 minutes 49.0 seconds\n1061 > Best val_loss model saved: 1.425\n1062 > Best val_loss model saved: 1.425\n1063 > Best val_loss model saved: 1.424\n1064 > Best val_loss model saved: 1.424\n1065 > Best val_loss model saved: 1.423\n1067 > Best val_loss model saved: 1.422\n1069 > Best val_loss model saved: 1.422\n1070 > Best val_loss model saved: 1.421\nepoch:1070 -> train_loss=0.72765,val_loss=1.42106 - 0.0 minutes 47.0 seconds\n1071 > Best val_loss model saved: 1.42\n1073 > Best val_loss model saved: 1.419\n1074 > Best val_loss model saved: 1.419\n1075 > Best val_loss model saved: 1.419\n1076 > Best val_loss model saved: 1.418\n1077 > Best val_loss model saved: 1.418\n1078 > Best val_loss model saved: 1.418\n1079 > Best val_loss model saved: 1.417\n1080 > Best val_loss model saved: 1.416\nepoch:1080 -> train_loss=0.72553,val_loss=1.4159 - 0.0 minutes 48.0 seconds\n1081 > Best val_loss model saved: 1.416\n1082 > Best val_loss model saved: 1.416\n1083 > Best val_loss model saved: 1.415\n1084 > Best val_loss model saved: 1.415\n1085 > Best val_loss model saved: 1.414\n1086 > Best val_loss model saved: 1.413\n1088 > Best val_loss model saved: 1.413\n1090 > Best val_loss model saved: 1.412\nepoch:1090 -> train_loss=0.7236,val_loss=1.41199 - 0.0 minutes 47.0 seconds\n1091 > Best val_loss model saved: 1.412\n1092 > Best val_loss model saved: 1.411\n1093 > Best val_loss model saved: 1.41\n1094 > Best val_loss model saved: 1.41\n1095 > Best val_loss model saved: 1.409\n1096 > Best val_loss model saved: 1.409\n1097 > Best val_loss model saved: 1.409\n1098 > Best val_loss model saved: 1.408\n1099 > Best val_loss model saved: 1.407\nepoch:1100 -> train_loss=0.72187,val_loss=1.40728 - 0.0 minutes 48.0 seconds\n1101 > Best val_loss model saved: 1.407\n1102 > Best val_loss model saved: 1.406\n1103 > Best val_loss model saved: 1.406\n1104 > Best val_loss model saved: 1.405\n1105 > Best val_loss model saved: 1.404\n1106 > Best val_loss model saved: 1.404\n1107 > Best val_loss model saved: 1.404\n1108 > Best val_loss model saved: 1.403\n1109 > Best val_loss model saved: 1.403\n1110 > Best val_loss model saved: 1.403\nepoch:1110 -> train_loss=0.72003,val_loss=1.40285 - 0.0 minutes 48.0 seconds\n1111 > Best val_loss model saved: 1.402\n1112 > Best val_loss model saved: 1.402\n1113 > Best val_loss model saved: 1.401\n1114 > Best val_loss model saved: 1.401\n1115 > Best val_loss model saved: 1.401\n1116 > Best val_loss model saved: 1.4\n1117 > Best val_loss model saved: 1.4\n1118 > Best val_loss model saved: 1.399\n1119 > Best val_loss model saved: 1.399\n1120 > Best val_loss model saved: 1.399\nepoch:1120 -> train_loss=0.71843,val_loss=1.39878 - 0.0 minutes 48.0 seconds\n1121 > Best val_loss model saved: 1.398\n1122 > Best val_loss model saved: 1.397\n1123 > Best val_loss model saved: 1.397\n1124 > Best val_loss model saved: 1.397\n1125 > Best val_loss model saved: 1.396\n1126 > Best val_loss model saved: 1.396\n1127 > Best val_loss model saved: 1.395\n1128 > Best val_loss model saved: 1.395\n1130 > Best val_loss model saved: 1.394\nepoch:1130 -> train_loss=0.71672,val_loss=1.39391 - 0.0 minutes 48.0 seconds\n1131 > Best val_loss model saved: 1.394\n1132 > Best val_loss model saved: 1.393\n1133 > Best val_loss model saved: 1.393\n1134 > Best val_loss model saved: 1.392\n1136 > Best val_loss model saved: 1.392\n1137 > Best val_loss model saved: 1.391\n1138 > Best val_loss model saved: 1.391\n1139 > Best val_loss model saved: 1.39\n1140 > Best val_loss model saved: 1.389\nepoch:1140 -> train_loss=0.71475,val_loss=1.3895 - 0.0 minutes 48.0 seconds\n1141 > Best val_loss model saved: 1.389\n1142 > Best val_loss model saved: 1.389\n1144 > Best val_loss model saved: 1.388\n1145 > Best val_loss model saved: 1.388\n1146 > Best val_loss model saved: 1.388\n1147 > Best val_loss model saved: 1.386\n1149 > Best val_loss model saved: 1.386\nepoch:1150 -> train_loss=0.71324,val_loss=1.38599 - 0.0 minutes 51.0 seconds\n1151 > Best val_loss model saved: 1.385\n1152 > Best val_loss model saved: 1.385\n1153 > Best val_loss model saved: 1.384\n1154 > Best val_loss model saved: 1.384\n1155 > Best val_loss model saved: 1.383\n1157 > Best val_loss model saved: 1.383\n1158 > Best val_loss model saved: 1.382\n1159 > Best val_loss model saved: 1.381\nepoch:1160 -> train_loss=0.71167,val_loss=1.38156 - 0.0 minutes 52.0 seconds\n1161 > Best val_loss model saved: 1.381\n1162 > Best val_loss model saved: 1.381\n1163 > Best val_loss model saved: 1.38\n1164 > Best val_loss model saved: 1.38\n1165 > Best val_loss model saved: 1.379\n1166 > Best val_loss model saved: 1.378\n1168 > Best val_loss model saved: 1.378\n1169 > Best val_loss model saved: 1.377\n1170 > Best val_loss model saved: 1.377\nepoch:1170 -> train_loss=0.70978,val_loss=1.37715 - 0.0 minutes 52.0 seconds\n1171 > Best val_loss model saved: 1.377\n1172 > Best val_loss model saved: 1.377\n1173 > Best val_loss model saved: 1.375\n1175 > Best val_loss model saved: 1.375\n1176 > Best val_loss model saved: 1.375\n1177 > Best val_loss model saved: 1.374\n1178 > Best val_loss model saved: 1.374\n1179 > Best val_loss model saved: 1.373\n1180 > Best val_loss model saved: 1.373\nepoch:1180 -> train_loss=0.70841,val_loss=1.37285 - 0.0 minutes 52.0 seconds\n1181 > Best val_loss model saved: 1.373\n1182 > Best val_loss model saved: 1.372\n1183 > Best val_loss model saved: 1.372\n1184 > Best val_loss model saved: 1.371\n1185 > Best val_loss model saved: 1.371\n1187 > Best val_loss model saved: 1.37\n1188 > Best val_loss model saved: 1.37\n1189 > Best val_loss model saved: 1.369\n1190 > Best val_loss model saved: 1.369\nepoch:1190 -> train_loss=0.70709,val_loss=1.36859 - 0.0 minutes 48.0 seconds\n1191 > Best val_loss model saved: 1.368\n1192 > Best val_loss model saved: 1.368\n1193 > Best val_loss model saved: 1.368\n1194 > Best val_loss model saved: 1.367\n1195 > Best val_loss model saved: 1.367\n1196 > Best val_loss model saved: 1.366\n1197 > Best val_loss model saved: 1.366\n1198 > Best val_loss model saved: 1.365\n1200 > Best val_loss model saved: 1.365\nepoch:1200 -> train_loss=0.70566,val_loss=1.36488 - 0.0 minutes 48.0 seconds\n1201 > Best val_loss model saved: 1.364\n1203 > Best val_loss model saved: 1.363\n1204 > Best val_loss model saved: 1.363\n1205 > Best val_loss model saved: 1.362\n1207 > Best val_loss model saved: 1.362\n1208 > Best val_loss model saved: 1.362\n1209 > Best val_loss model saved: 1.361\n1210 > Best val_loss model saved: 1.36\nepoch:1210 -> train_loss=0.70401,val_loss=1.36037 - 0.0 minutes 52.0 seconds\n1212 > Best val_loss model saved: 1.36\n1213 > Best val_loss model saved: 1.36\n1214 > Best val_loss model saved: 1.359\n1215 > Best val_loss model saved: 1.358\n1216 > Best val_loss model saved: 1.358\n1218 > Best val_loss model saved: 1.357\n1219 > Best val_loss model saved: 1.357\n1220 > Best val_loss model saved: 1.357\nepoch:1220 -> train_loss=0.70278,val_loss=1.3569 - 0.0 minutes 52.0 seconds\n1221 > Best val_loss model saved: 1.357\n1222 > Best val_loss model saved: 1.355\n1224 > Best val_loss model saved: 1.355\n1226 > Best val_loss model saved: 1.354\n1227 > Best val_loss model saved: 1.354\n1228 > Best val_loss model saved: 1.354\n1229 > Best val_loss model saved: 1.353\n1230 > Best val_loss model saved: 1.353\nepoch:1230 -> train_loss=0.7007,val_loss=1.35327 - 0.0 minutes 48.0 seconds\n1231 > Best val_loss model saved: 1.353\n1232 > Best val_loss model saved: 1.352\n1233 > Best val_loss model saved: 1.352\n1234 > Best val_loss model saved: 1.352\n1235 > Best val_loss model saved: 1.351\n1236 > Best val_loss model saved: 1.35\n1237 > Best val_loss model saved: 1.35\n1238 > Best val_loss model saved: 1.35\n1239 > Best val_loss model saved: 1.349\n1240 > Best val_loss model saved: 1.349\nepoch:1240 -> train_loss=0.69961,val_loss=1.34913 - 0.0 minutes 48.0 seconds\n1241 > Best val_loss model saved: 1.349\n1242 > Best val_loss model saved: 1.348\n1244 > Best val_loss model saved: 1.348\n1245 > Best val_loss model saved: 1.347\n1247 > Best val_loss model saved: 1.347\n1248 > Best val_loss model saved: 1.346\nepoch:1250 -> train_loss=0.69827,val_loss=1.34587 - 0.0 minutes 52.0 seconds\n1251 > Best val_loss model saved: 1.346\n1252 > Best val_loss model saved: 1.345\n1254 > Best val_loss model saved: 1.344\n1256 > Best val_loss model saved: 1.343\n1257 > Best val_loss model saved: 1.343\n1259 > Best val_loss model saved: 1.342\n1260 > Best val_loss model saved: 1.342\nepoch:1260 -> train_loss=0.69676,val_loss=1.34229 - 0.0 minutes 52.0 seconds\n1261 > Best val_loss model saved: 1.341\n1262 > Best val_loss model saved: 1.341\n1263 > Best val_loss model saved: 1.34\n1265 > Best val_loss model saved: 1.34\n1266 > Best val_loss model saved: 1.34\n1267 > Best val_loss model saved: 1.339\n1268 > Best val_loss model saved: 1.339\n1269 > Best val_loss model saved: 1.338\n1270 > Best val_loss model saved: 1.338\nepoch:1270 -> train_loss=0.6952,val_loss=1.33827 - 0.0 minutes 52.0 seconds\n1271 > Best val_loss model saved: 1.338\n1272 > Best val_loss model saved: 1.337\n1273 > Best val_loss model saved: 1.337\n1274 > Best val_loss model saved: 1.337\n1275 > Best val_loss model saved: 1.336\n1276 > Best val_loss model saved: 1.335\n1278 > Best val_loss model saved: 1.335\n1279 > Best val_loss model saved: 1.335\n1280 > Best val_loss model saved: 1.335\nepoch:1280 -> train_loss=0.694,val_loss=1.33479 - 0.0 minutes 53.0 seconds\n1281 > Best val_loss model saved: 1.334\n1282 > Best val_loss model saved: 1.334\n1283 > Best val_loss model saved: 1.333\n1284 > Best val_loss model saved: 1.333\n1285 > Best val_loss model saved: 1.333\n1286 > Best val_loss model saved: 1.333\n1287 > Best val_loss model saved: 1.332\n1288 > Best val_loss model saved: 1.332\n1289 > Best val_loss model saved: 1.331\nepoch:1290 -> train_loss=0.69237,val_loss=1.33157 - 0.0 minutes 52.0 seconds\n1291 > Best val_loss model saved: 1.331\n1292 > Best val_loss model saved: 1.33\n1293 > Best val_loss model saved: 1.33\n1294 > Best val_loss model saved: 1.329\n1296 > Best val_loss model saved: 1.329\n1297 > Best val_loss model saved: 1.329\n1298 > Best val_loss model saved: 1.328\n1299 > Best val_loss model saved: 1.328\n1300 > Best val_loss model saved: 1.328\nepoch:1300 -> train_loss=0.69129,val_loss=1.32767 - 0.0 minutes 52.0 seconds\n1301 > Best val_loss model saved: 1.327\n1303 > Best val_loss model saved: 1.327\n1304 > Best val_loss model saved: 1.326\n1305 > Best val_loss model saved: 1.326\n1306 > Best val_loss model saved: 1.326\n1307 > Best val_loss model saved: 1.325\n1308 > Best val_loss model saved: 1.325\n1309 > Best val_loss model saved: 1.325\n1310 > Best val_loss model saved: 1.324\nepoch:1310 -> train_loss=0.69004,val_loss=1.3241 - 0.0 minutes 52.0 seconds\n1311 > Best val_loss model saved: 1.324\n1312 > Best val_loss model saved: 1.324\n1313 > Best val_loss model saved: 1.323\n1314 > Best val_loss model saved: 1.323\n1316 > Best val_loss model saved: 1.322\n1317 > Best val_loss model saved: 1.322\n1318 > Best val_loss model saved: 1.322\n1319 > Best val_loss model saved: 1.321\n1320 > Best val_loss model saved: 1.321\nepoch:1320 -> train_loss=0.68866,val_loss=1.32068 - 0.0 minutes 51.0 seconds\n1322 > Best val_loss model saved: 1.32\n1324 > Best val_loss model saved: 1.319\n1325 > Best val_loss model saved: 1.319\n1326 > Best val_loss model saved: 1.319\n1327 > Best val_loss model saved: 1.319\n1328 > Best val_loss model saved: 1.318\n1330 > Best val_loss model saved: 1.318\nepoch:1330 -> train_loss=0.68753,val_loss=1.31752 - 0.0 minutes 52.0 seconds\n1332 > Best val_loss model saved: 1.317\n1334 > Best val_loss model saved: 1.316\n1337 > Best val_loss model saved: 1.315\n1339 > Best val_loss model saved: 1.315\n1340 > Best val_loss model saved: 1.314\nepoch:1340 -> train_loss=0.68597,val_loss=1.31408 - 0.0 minutes 52.0 seconds\n1341 > Best val_loss model saved: 1.314\n1342 > Best val_loss model saved: 1.314\n1343 > Best val_loss model saved: 1.313\n1345 > Best val_loss model saved: 1.313\n1346 > Best val_loss model saved: 1.313\n1347 > Best val_loss model saved: 1.312\n1348 > Best val_loss model saved: 1.312\n1349 > Best val_loss model saved: 1.311\n1350 > Best val_loss model saved: 1.311\nepoch:1350 -> train_loss=0.68481,val_loss=1.31134 - 0.0 minutes 53.0 seconds\n1351 > Best val_loss model saved: 1.311\n1352 > Best val_loss model saved: 1.311\n1353 > Best val_loss model saved: 1.31\n1354 > Best val_loss model saved: 1.309\n1357 > Best val_loss model saved: 1.309\n1358 > Best val_loss model saved: 1.308\n1359 > Best val_loss model saved: 1.308\n1360 > Best val_loss model saved: 1.308\nepoch:1360 -> train_loss=0.68366,val_loss=1.30817 - 0.0 minutes 52.0 seconds\n1361 > Best val_loss model saved: 1.308\n1362 > Best val_loss model saved: 1.307\n1363 > Best val_loss model saved: 1.307\n1364 > Best val_loss model saved: 1.307\n1365 > Best val_loss model saved: 1.306\n1366 > Best val_loss model saved: 1.306\n1367 > Best val_loss model saved: 1.306\n1368 > Best val_loss model saved: 1.305\n1369 > Best val_loss model saved: 1.305\n1370 > Best val_loss model saved: 1.305\nepoch:1370 -> train_loss=0.68245,val_loss=1.30463 - 0.0 minutes 47.0 seconds\n1371 > Best val_loss model saved: 1.304\n1372 > Best val_loss model saved: 1.303\n1375 > Best val_loss model saved: 1.303\n1376 > Best val_loss model saved: 1.302\n1377 > Best val_loss model saved: 1.302\n1378 > Best val_loss model saved: 1.302\n1380 > Best val_loss model saved: 1.301\nepoch:1380 -> train_loss=0.68141,val_loss=1.30131 - 0.0 minutes 47.0 seconds\n1381 > Best val_loss model saved: 1.301\n1382 > Best val_loss model saved: 1.3\n1384 > Best val_loss model saved: 1.3\n1385 > Best val_loss model saved: 1.3\n1386 > Best val_loss model saved: 1.299\n1387 > Best val_loss model saved: 1.299\n1388 > Best val_loss model saved: 1.299\n1389 > Best val_loss model saved: 1.299\n1390 > Best val_loss model saved: 1.298\nepoch:1390 -> train_loss=0.68016,val_loss=1.29806 - 0.0 minutes 47.0 seconds\n1391 > Best val_loss model saved: 1.298\n1392 > Best val_loss model saved: 1.297\n1393 > Best val_loss model saved: 1.297\n1394 > Best val_loss model saved: 1.297\n1395 > Best val_loss model saved: 1.297\n1396 > Best val_loss model saved: 1.296\n1398 > Best val_loss model saved: 1.295\n1399 > Best val_loss model saved: 1.295\n1400 > Best val_loss model saved: 1.295\nepoch:1400 -> train_loss=0.67935,val_loss=1.29457 - 0.0 minutes 47.0 seconds\n1402 > Best val_loss model saved: 1.294\n1403 > Best val_loss model saved: 1.294\n1405 > Best val_loss model saved: 1.293\n1408 > Best val_loss model saved: 1.292\n1409 > Best val_loss model saved: 1.292\n1410 > Best val_loss model saved: 1.292\nepoch:1410 -> train_loss=0.67814,val_loss=1.29151 - 0.0 minutes 47.0 seconds\n1412 > Best val_loss model saved: 1.291\n1413 > Best val_loss model saved: 1.291\n1414 > Best val_loss model saved: 1.291\n1415 > Best val_loss model saved: 1.29\n1416 > Best val_loss model saved: 1.29\n1417 > Best val_loss model saved: 1.29\n1418 > Best val_loss model saved: 1.29\n1419 > Best val_loss model saved: 1.289\n1420 > Best val_loss model saved: 1.288\nepoch:1420 -> train_loss=0.67707,val_loss=1.2885 - 0.0 minutes 47.0 seconds\n1422 > Best val_loss model saved: 1.288\n1424 > Best val_loss model saved: 1.288\n1426 > Best val_loss model saved: 1.287\n1428 > Best val_loss model saved: 1.286\n1429 > Best val_loss model saved: 1.286\n1430 > Best val_loss model saved: 1.286\nepoch:1430 -> train_loss=0.67553,val_loss=1.28597 - 0.0 minutes 47.0 seconds\n1431 > Best val_loss model saved: 1.285\n1433 > Best val_loss model saved: 1.285\n1434 > Best val_loss model saved: 1.285\n1436 > Best val_loss model saved: 1.284\n1437 > Best val_loss model saved: 1.284\n1438 > Best val_loss model saved: 1.284\n1439 > Best val_loss model saved: 1.283\nepoch:1440 -> train_loss=0.67447,val_loss=1.28328 - 0.0 minutes 47.0 seconds\n1441 > Best val_loss model saved: 1.283\n1442 > Best val_loss model saved: 1.282\n1443 > Best val_loss model saved: 1.282\n1444 > Best val_loss model saved: 1.282\n1445 > Best val_loss model saved: 1.282\n1447 > Best val_loss model saved: 1.281\n1448 > Best val_loss model saved: 1.281\n1449 > Best val_loss model saved: 1.28\nepoch:1450 -> train_loss=0.67353,val_loss=1.28072 - 0.0 minutes 47.0 seconds\n1451 > Best val_loss model saved: 1.28\n1452 > Best val_loss model saved: 1.28\n1454 > Best val_loss model saved: 1.279\n1456 > Best val_loss model saved: 1.278\n1457 > Best val_loss model saved: 1.278\n1458 > Best val_loss model saved: 1.278\n1460 > Best val_loss model saved: 1.277\nepoch:1460 -> train_loss=0.67239,val_loss=1.27723 - 0.0 minutes 47.0 seconds\n1461 > Best val_loss model saved: 1.277\n1462 > Best val_loss model saved: 1.276\n1464 > Best val_loss model saved: 1.276\n1466 > Best val_loss model saved: 1.275\n1468 > Best val_loss model saved: 1.275\n1470 > Best val_loss model saved: 1.275\nepoch:1470 -> train_loss=0.67144,val_loss=1.27454 - 0.0 minutes 47.0 seconds\n1471 > Best val_loss model saved: 1.274\n1472 > Best val_loss model saved: 1.274\n1473 > Best val_loss model saved: 1.274\n1474 > Best val_loss model saved: 1.273\n1475 > Best val_loss model saved: 1.273\n1476 > Best val_loss model saved: 1.272\n1478 > Best val_loss model saved: 1.272\n1480 > Best val_loss model saved: 1.272\nepoch:1480 -> train_loss=0.67052,val_loss=1.27174 - 0.0 minutes 47.0 seconds\n1481 > Best val_loss model saved: 1.271\n1482 > Best val_loss model saved: 1.271\n1484 > Best val_loss model saved: 1.271\n1485 > Best val_loss model saved: 1.27\n1486 > Best val_loss model saved: 1.27\n1488 > Best val_loss model saved: 1.269\n1490 > Best val_loss model saved: 1.268\nepoch:1490 -> train_loss=0.66915,val_loss=1.26845 - 0.0 minutes 47.0 seconds\n1492 > Best val_loss model saved: 1.268\n1493 > Best val_loss model saved: 1.268\n1494 > Best val_loss model saved: 1.268\n1495 > Best val_loss model saved: 1.267\n1496 > Best val_loss model saved: 1.267\n1499 > Best val_loss model saved: 1.267\n1500 > Best val_loss model saved: 1.266\nepoch:1500 -> train_loss=0.66796,val_loss=1.26613 - 0.0 minutes 47.0 seconds\n1501 > Best val_loss model saved: 1.266\n1502 > Best val_loss model saved: 1.266\n1503 > Best val_loss model saved: 1.265\n1506 > Best val_loss model saved: 1.264\n1507 > Best val_loss model saved: 1.264\n1508 > Best val_loss model saved: 1.264\n1509 > Best val_loss model saved: 1.263\n1510 > Best val_loss model saved: 1.263\nepoch:1510 -> train_loss=0.66716,val_loss=1.26298 - 0.0 minutes 47.0 seconds\n1511 > Best val_loss model saved: 1.263\n1513 > Best val_loss model saved: 1.262\n1515 > Best val_loss model saved: 1.262\n1516 > Best val_loss model saved: 1.261\n1518 > Best val_loss model saved: 1.261\n1519 > Best val_loss model saved: 1.261\nepoch:1520 -> train_loss=0.66592,val_loss=1.26065 - 0.0 minutes 47.0 seconds\n1521 > Best val_loss model saved: 1.26\n1522 > Best val_loss model saved: 1.26\n1523 > Best val_loss model saved: 1.259\n1525 > Best val_loss model saved: 1.259\n1526 > Best val_loss model saved: 1.258\n1528 > Best val_loss model saved: 1.258\n1529 > Best val_loss model saved: 1.258\n1530 > Best val_loss model saved: 1.257\nepoch:1530 -> train_loss=0.66507,val_loss=1.25715 - 0.0 minutes 47.0 seconds\n1533 > Best val_loss model saved: 1.257\n1535 > Best val_loss model saved: 1.256\n1536 > Best val_loss model saved: 1.256\n1537 > Best val_loss model saved: 1.255\n1539 > Best val_loss model saved: 1.254\nepoch:1540 -> train_loss=0.66394,val_loss=1.25508 - 0.0 minutes 47.0 seconds\n1541 > Best val_loss model saved: 1.254\n1543 > Best val_loss model saved: 1.253\n1545 > Best val_loss model saved: 1.253\n1546 > Best val_loss model saved: 1.253\n1547 > Best val_loss model saved: 1.252\n1548 > Best val_loss model saved: 1.252\n1549 > Best val_loss model saved: 1.251\nepoch:1550 -> train_loss=0.66274,val_loss=1.25159 - 0.0 minutes 47.0 seconds\n1551 > Best val_loss model saved: 1.251\n1553 > Best val_loss model saved: 1.25\n1555 > Best val_loss model saved: 1.25\n1557 > Best val_loss model saved: 1.249\n1559 > Best val_loss model saved: 1.249\n1560 > Best val_loss model saved: 1.249\nepoch:1560 -> train_loss=0.66169,val_loss=1.24851 - 0.0 minutes 47.0 seconds\n1561 > Best val_loss model saved: 1.248\n1563 > Best val_loss model saved: 1.247\n1565 > Best val_loss model saved: 1.247\n1567 > Best val_loss model saved: 1.246\n1569 > Best val_loss model saved: 1.246\nepoch:1570 -> train_loss=0.66078,val_loss=1.24624 - 0.0 minutes 47.0 seconds\n1571 > Best val_loss model saved: 1.245\n1573 > Best val_loss model saved: 1.245\n1575 > Best val_loss model saved: 1.244\n1577 > Best val_loss model saved: 1.244\n1578 > Best val_loss model saved: 1.244\n1579 > Best val_loss model saved: 1.243\nepoch:1580 -> train_loss=0.65993,val_loss=1.24354 - 0.0 minutes 47.0 seconds\n1581 > Best val_loss model saved: 1.243\n1582 > Best val_loss model saved: 1.243\n1584 > Best val_loss model saved: 1.242\n1585 > Best val_loss model saved: 1.242\n1586 > Best val_loss model saved: 1.242\n1587 > Best val_loss model saved: 1.241\n1589 > Best val_loss model saved: 1.24\nepoch:1590 -> train_loss=0.65896,val_loss=1.24069 - 0.0 minutes 47.0 seconds\n1591 > Best val_loss model saved: 1.24\n1592 > Best val_loss model saved: 1.24\n1593 > Best val_loss model saved: 1.239\n1595 > Best val_loss model saved: 1.239\n1597 > Best val_loss model saved: 1.238\n1599 > Best val_loss model saved: 1.238\nepoch:1600 -> train_loss=0.65833,val_loss=1.23816 - 0.0 minutes 47.0 seconds\n1601 > Best val_loss model saved: 1.237\n1602 > Best val_loss model saved: 1.237\n1603 > Best val_loss model saved: 1.237\n1606 > Best val_loss model saved: 1.236\n1607 > Best val_loss model saved: 1.235\nepoch:1610 -> train_loss=0.65751,val_loss=1.23564 - 0.0 minutes 47.0 seconds\n1611 > Best val_loss model saved: 1.235\n1613 > Best val_loss model saved: 1.235\n1615 > Best val_loss model saved: 1.233\n1617 > Best val_loss model saved: 1.233\n1619 > Best val_loss model saved: 1.232\nepoch:1620 -> train_loss=0.65613,val_loss=1.23329 - 0.0 minutes 47.0 seconds\n1623 > Best val_loss model saved: 1.232\n1625 > Best val_loss model saved: 1.231\n1627 > Best val_loss model saved: 1.231\n1628 > Best val_loss model saved: 1.231\n1629 > Best val_loss model saved: 1.23\nepoch:1630 -> train_loss=0.65544,val_loss=1.23059 - 0.0 minutes 47.0 seconds\n1631 > Best val_loss model saved: 1.23\n1633 > Best val_loss model saved: 1.23\n1635 > Best val_loss model saved: 1.229\n1637 > Best val_loss model saved: 1.228\n1639 > Best val_loss model saved: 1.228\nepoch:1640 -> train_loss=0.65438,val_loss=1.22814 - 0.0 minutes 47.0 seconds\n1641 > Best val_loss model saved: 1.227\n1643 > Best val_loss model saved: 1.227\n1644 > Best val_loss model saved: 1.227\n1645 > Best val_loss model saved: 1.226\n1647 > Best val_loss model saved: 1.226\n1648 > Best val_loss model saved: 1.226\n1649 > Best val_loss model saved: 1.226\nepoch:1650 -> train_loss=0.65365,val_loss=1.22567 - 0.0 minutes 47.0 seconds\n1651 > Best val_loss model saved: 1.225\n1653 > Best val_loss model saved: 1.225\n1655 > Best val_loss model saved: 1.224\n1657 > Best val_loss model saved: 1.224\n1658 > Best val_loss model saved: 1.224\n1659 > Best val_loss model saved: 1.223\nepoch:1660 -> train_loss=0.65281,val_loss=1.22367 - 0.0 minutes 47.0 seconds\n1661 > Best val_loss model saved: 1.223\n1663 > Best val_loss model saved: 1.223\n1665 > Best val_loss model saved: 1.222\n1666 > Best val_loss model saved: 1.222\n1667 > Best val_loss model saved: 1.221\n1669 > Best val_loss model saved: 1.221\nepoch:1670 -> train_loss=0.65162,val_loss=1.22118 - 0.0 minutes 47.0 seconds\n1671 > Best val_loss model saved: 1.22\n1673 > Best val_loss model saved: 1.22\n1675 > Best val_loss model saved: 1.22\n1677 > Best val_loss model saved: 1.219\n1679 > Best val_loss model saved: 1.219\nepoch:1680 -> train_loss=0.65116,val_loss=1.21926 - 0.0 minutes 47.0 seconds\n1681 > Best val_loss model saved: 1.218\n1683 > Best val_loss model saved: 1.218\n1685 > Best val_loss model saved: 1.217\n1686 > Best val_loss model saved: 1.217\n1687 > Best val_loss model saved: 1.217\n1689 > Best val_loss model saved: 1.216\nepoch:1690 -> train_loss=0.65005,val_loss=1.2167 - 0.0 minutes 47.0 seconds\n1691 > Best val_loss model saved: 1.216\n1693 > Best val_loss model saved: 1.215\n1695 > Best val_loss model saved: 1.215\n1696 > Best val_loss model saved: 1.215\n1697 > Best val_loss model saved: 1.214\n1699 > Best val_loss model saved: 1.214\nepoch:1700 -> train_loss=0.64915,val_loss=1.21429 - 0.0 minutes 48.0 seconds\n1701 > Best val_loss model saved: 1.214\n1702 > Best val_loss model saved: 1.214\n1703 > Best val_loss model saved: 1.213\n1705 > Best val_loss model saved: 1.213\n1707 > Best val_loss model saved: 1.213\n1709 > Best val_loss model saved: 1.212\nepoch:1710 -> train_loss=0.64839,val_loss=1.21223 - 0.0 minutes 48.0 seconds\n1711 > Best val_loss model saved: 1.212\n1713 > Best val_loss model saved: 1.211\n1715 > Best val_loss model saved: 1.211\n1717 > Best val_loss model saved: 1.21\n1719 > Best val_loss model saved: 1.21\nepoch:1720 -> train_loss=0.64782,val_loss=1.21035 - 0.0 minutes 52.0 seconds\n1721 > Best val_loss model saved: 1.21\n1722 > Best val_loss model saved: 1.21\n1723 > Best val_loss model saved: 1.209\n1724 > Best val_loss model saved: 1.209\n1727 > Best val_loss model saved: 1.209\n1728 > Best val_loss model saved: 1.208\n1729 > Best val_loss model saved: 1.208\n1730 > Best val_loss model saved: 1.208\nepoch:1730 -> train_loss=0.64661,val_loss=1.20779 - 0.0 minutes 51.0 seconds\n1731 > Best val_loss model saved: 1.208\n1732 > Best val_loss model saved: 1.208\n1733 > Best val_loss model saved: 1.207\n1734 > Best val_loss model saved: 1.207\n1735 > Best val_loss model saved: 1.207\n1737 > Best val_loss model saved: 1.206\n1738 > Best val_loss model saved: 1.206\n1740 > Best val_loss model saved: 1.206\nepoch:1740 -> train_loss=0.64617,val_loss=1.20597 - 0.0 minutes 52.0 seconds\n1741 > Best val_loss model saved: 1.206\n1742 > Best val_loss model saved: 1.205\n1743 > Best val_loss model saved: 1.205\n1745 > Best val_loss model saved: 1.205\n1746 > Best val_loss model saved: 1.205\n1747 > Best val_loss model saved: 1.204\n1749 > Best val_loss model saved: 1.204\n1750 > Best val_loss model saved: 1.204\nepoch:1750 -> train_loss=0.64546,val_loss=1.20366 - 0.0 minutes 52.0 seconds\n1751 > Best val_loss model saved: 1.204\n1753 > Best val_loss model saved: 1.203\n1754 > Best val_loss model saved: 1.203\n1755 > Best val_loss model saved: 1.202\n1760 > Best val_loss model saved: 1.202\nepoch:1760 -> train_loss=0.64468,val_loss=1.20181 - 0.0 minutes 52.0 seconds\n1761 > Best val_loss model saved: 1.201\n1765 > Best val_loss model saved: 1.201\n1766 > Best val_loss model saved: 1.201\n1767 > Best val_loss model saved: 1.2\n1768 > Best val_loss model saved: 1.2\n1770 > Best val_loss model saved: 1.2\nepoch:1770 -> train_loss=0.64375,val_loss=1.19951 - 0.0 minutes 48.0 seconds\n1773 > Best val_loss model saved: 1.199\n1774 > Best val_loss model saved: 1.199\n1776 > Best val_loss model saved: 1.199\n1777 > Best val_loss model saved: 1.198\n1778 > Best val_loss model saved: 1.198\n1779 > Best val_loss model saved: 1.198\n1780 > Best val_loss model saved: 1.198\nepoch:1780 -> train_loss=0.64302,val_loss=1.19757 - 0.0 minutes 48.0 seconds\nFinished Training\nWall time: 10h 50min 9s\n"
    }
   ],
   "source": [
    "%%time\n",
    "# %load_ext tensorboard\n",
    "\n",
    "import time\n",
    "import copy\n",
    "from tqdm.auto import tqdm\n",
    "from utils import *\n",
    "from torch.utils.tensorboard import SummaryWriter\n",
    "# from tensorboardX import SummaryWriter\n",
    "\n",
    "last_loss = 0.0\n",
    "min_val_loss = np.inf\n",
    "patience_counter = 0\n",
    "early_stop_patience = 30\n",
    "best_model = None\n",
    "train_losses = []\n",
    "val_losses = []\n",
    "\n",
    "output_path = '../outputs'\n",
    "tb_path = output_path+'/logs/runs'\n",
    "run_path = tb_path+'/run15_part4_temp'\n",
    "checkpoint_path = run_path+'/checkpoints'\n",
    "resume_training = True\n",
    "start_epoch = 0\n",
    "\n",
    "if not os.path.exists(checkpoint_path):\n",
    "    os.makedirs(checkpoint_path)\n",
    "\n",
    "writer = SummaryWriter(log_dir=run_path, comment='', purge_step=None, max_queue=1, flush_secs=50, filename_suffix='')\n",
    "\n",
    "# resume training on a saved model\n",
    "if resume_training:\n",
    "    prev_checkpoint_path = '../outputs/logs/runs/run15_part3/checkpoints'  #'../outputs/logs/runs/run15_do_05_04/checkpoints'\n",
    "    state_dict = {}\n",
    "    # state_dict = torch.load(prev_checkpoint_path)\n",
    "    # print('state_dict', state_dict)\n",
    "    model.load_state_dict(torch.load(prev_checkpoint_path+'/model_1589521572.2913618.pt'))  # state_dict['model_state']\n",
    "    # optimizer.load_state_dict(torch.load(prev_checkpoint_path+'/optim_1589521572.2913618.pt'))  # state_dict['optim_state']\n",
    "    start_epoch = 1781\n",
    "    writer.add_text('loaded saved model', str(state_dict))\n",
    "    print('loaded saved model:', state_dict)\n",
    "\n",
    "writer.add_text('run_change', 'continue run for do' + str(params))\n",
    "\n",
    "torch.backends.cudnn.benchmark = True\n",
    "print('total epochs=', len(range(start_epoch, start_epoch+params['epochs'])))\n",
    "# epoch_bar = tqdm(range(epochs), ncols=12000)  # tqdm really slows down training! \n",
    "# with torch.autograd.detect_anomaly():\n",
    "for epoch in range(start_epoch, start_epoch+params['epochs']):  # loop over the dataset multiple times\n",
    "    running_loss = 0.0\n",
    "    stime = time.time()\n",
    "    \n",
    "    for i, data in enumerate(train_dl, 0):\n",
    "        # get the inputs; data is a list of [inputs, dist_true]\n",
    "        model.train()\n",
    "        inputs, dist_true = data[0], data[1]\n",
    "        # zero the parameter gradients\n",
    "        optimizer.zero_grad()\n",
    "\n",
    "        # forward + backward + optimize\n",
    "        outputs = model(inputs)\n",
    "        loss = loss_fn(outputs, dist_true)\n",
    "        \n",
    "        loss.backward()\n",
    "        optimizer.step()\n",
    "\n",
    "        running_loss += loss.item()\n",
    "        last_loss = loss.item()\n",
    "\n",
    "    val_loss = evaluate(model, val_dl)\n",
    "    lr_sched.step(val_loss)\n",
    "    if val_loss < min_val_loss:\n",
    "        min_val_loss = val_loss\n",
    "        patience_counter = 0\n",
    "        best_model = copy.deepcopy(model)\n",
    "        print(epoch,\"> Best val_loss model saved:\", round(val_loss, 3))\n",
    "    else:\n",
    "        patience_counter += 1\n",
    "    train_loss = running_loss/len(train_dl)\n",
    "    train_losses.append(train_loss)\n",
    "    val_losses.append(val_loss)\n",
    "    writer.add_scalar('loss/train', train_loss, epoch)\n",
    "    writer.add_scalar('loss/val', val_loss, epoch)\n",
    "\n",
    "    if patience_counter > early_stop_patience:\n",
    "        print(\"Early stopping at epoch {}. current val_loss {}\".format(epoch, val_loss))\n",
    "        break\n",
    "\n",
    "    if epoch % 10 == 0:\n",
    "        torch.save(best_model.state_dict(), checkpoint_path+'/best_model.pt')\n",
    "        torch.save(optimizer.state_dict(), checkpoint_path+'/optim_cp.pt')\n",
    "        writer.add_text('checkpoint saved', 'at epoch='+str(epoch))\n",
    "        print(\"epoch:{} -> train_loss={},val_loss={} - {}\".format(epoch, round(train_loss, 5),                round(val_loss, 5), seconds_to_minutes(time.time()-stime)))\n",
    "    # epoch_bar.update(1)\n",
    "    # epoch_bar.set_description(desc=\"train_loss={},val_loss={},running_loss={}\".format(round(last_loss,3), round(val_loss,3), running_loss))\n",
    "\n",
    "print('Finished Training')\n",
    "ts = str(time.time())\n",
    "best_model_path = checkpoint_path+'/model_'+ts+'.pt'\n",
    "opt_save_path = checkpoint_path+'/optim_'+ts+'.pt'\n",
    "state_save_path = checkpoint_path+'/state_'+ts+'.pt'\n",
    "state = {'epoch': epoch+1,\n",
    "        'model_state': model.state_dict(),\n",
    "        'optim_state': optimizer.state_dict(),\n",
    "        'last_train_loss': train_losses[-1],\n",
    "        'last_val_loss': val_losses[-1]\n",
    "        }\n",
    "\n",
    "save_checkpoint(state, state_save_path)\n",
    "# sometimes loading from state dict is not wokring, so\n",
    "torch.save(best_model.state_dict(), best_model_path)\n",
    "torch.save(optimizer.state_dict(), opt_save_path)"
   ]
  },
  {
   "cell_type": "code",
   "execution_count": 26,
   "metadata": {},
   "outputs": [
    {
     "output_type": "stream",
     "name": "stdout",
     "text": "1.1935784258741013\n"
    },
    {
     "output_type": "execute_result",
     "data": {
      "text/plain": "([[3.4225850105285645],\n  [3.3290257453918457],\n  [2.5171895027160645],\n  [3.6087400913238525],\n  [3.969356060028076],\n  [2.5303597450256348],\n  [2.7455344200134277],\n  [3.0974037647247314],\n  [2.942131519317627],\n  [2.7331490516662598]],\n array([3, 3, 2, 3, 4, 1, 3, 2, 2, 3]))"
     },
     "metadata": {},
     "execution_count": 26
    }
   ],
   "source": [
    "def test(model, dl):\n",
    "    model.eval()\n",
    "    final_loss = 0.0\n",
    "    count = 0\n",
    "    y_hat = []\n",
    "    with torch.no_grad():\n",
    "        for data_cv in dl:\n",
    "            inputs, dist_true = data_cv[0], data_cv[1]\n",
    "            count += len(inputs)\n",
    "            outputs = model(inputs)\n",
    "            y_hat.extend(outputs.tolist())\n",
    "            loss = loss_fn(outputs, dist_true)\n",
    "            final_loss += loss.item()\n",
    "    return final_loss/len(dl), y_hat\n",
    "\n",
    "best_model_path = '../outputs/logs/runs/run15_part3/checkpoints/model_1589521572.2913618.pt'\n",
    "model.load_state_dict(torch.load(best_model_path))\n",
    "test_loss, y_hat = test(model, test_dl)\n",
    "print(test_loss)\n",
    "y_hat[50:60], y_test[50:60]"
   ]
  },
  {
   "cell_type": "code",
   "execution_count": 46,
   "metadata": {},
   "outputs": [
    {
     "output_type": "stream",
     "name": "stdout",
     "text": "238838 235000\n[3 3 3 3 3 3 3 3 3 3 3 3 3 3 3 3 3 3 3 3 3 3 3 3 3 3 3 3 3 3]\n[3 3 4 3 3 4 3 3 3 3 3 3 4 3 3 3 3 3 4 3 3 4 3 4 3 3 3 3 3 4]\n"
    }
   ],
   "source": [
    "# show distance value wise precision (bar chart)\n",
    "# predicted values are less that real test samples because last samples from test are dropped # to maintain save batch size (drop_last=True)\n",
    "from matplotlib import pyplot as plt\n",
    "\n",
    "y_hat_ = np.array(y_hat).squeeze()\n",
    "print(len(y_test), len(y_hat))\n",
    "dist_accuracies = []\n",
    "dist_counts = [] \n",
    "for i in range(1, 8):\n",
    "    mask = y_test==i\n",
    "    dist_values = y_test[mask]\n",
    "    dist_preds = np.round(y_hat_[mask[:len(y_hat_)]])\n",
    "    dist_accuracies.append((np.sum(dist_values == dist_preds)/len(y_hat_))*100)\n",
    "    dist_counts.append(len(dist_values))\n",
    "\n",
    "fig = plt.figure()\n",
    "plt.subplot(2,1,1)\n",
    "plt.bar(range(1,8), dist_accuracies)\n",
    "plt.title('distance-wise accuracies')\n",
    "plt.xlabel('distance values')\n",
    "plt.ylabel('accuracies')\n",
    "plt.subplot(2,1,2)\n",
    "plt.bar(range(1,8), dist_counts)\n",
    "plt.title('distance-wise counts')\n",
    "plt.xlabel('distance values')\n",
    "plt.ylabel('counts')\n",
    "plt.show()\n",
    "writer.add_figure('test/results', fig)"
   ]
  },
  {
   "cell_type": "code",
   "execution_count": null,
   "metadata": {},
   "outputs": [],
   "source": []
  },
  {
   "cell_type": "markdown",
   "metadata": {},
   "source": [
    "#### Things to try\n",
    "* Next try one cycle lr sched -- try 0.1 to 0.001 LR\n",
    "* Distance values of 2 & 3 dominate the data. Best way to handle?\n",
    "* try batch normalization\n",
    "* normalize outputs?\n",
    "* try Mean Absolute Error (robust to large/small outliers) and Mean Sq log error.\n",
    "* are features good enough for prediction? Check it. May be try XGBoost for it.\n",
    "* stratified data\n",
    "* check one-cycle LR and loss correlation. Log it in tensorboard.\n",
    "* print out outputs to see why loss so high?"
   ]
  }
 ],
 "metadata": {
  "kernelspec": {
   "display_name": "Python 3",
   "language": "python",
   "name": "python3"
  },
  "language_info": {
   "codemirror_mode": {
    "name": "ipython",
    "version": 3
   },
   "file_extension": ".py",
   "mimetype": "text/x-python",
   "name": "python",
   "nbconvert_exporter": "python",
   "pygments_lexer": "ipython3",
   "version": "3.8.2-final"
  }
 },
 "nbformat": 4,
 "nbformat_minor": 2
}